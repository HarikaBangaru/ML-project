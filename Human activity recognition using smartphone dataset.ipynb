{
 "cells": [
  {
   "cell_type": "code",
   "execution_count": 1,
   "metadata": {},
   "outputs": [],
   "source": [
    "import warnings\n",
    "warnings.filterwarnings('ignore')"
   ]
  },
  {
   "cell_type": "code",
   "execution_count": 2,
   "metadata": {},
   "outputs": [],
   "source": [
    "import numpy as np\n",
    "import pandas as pd\n",
    "import matplotlib.pyplot as plt\n",
    "import seaborn as sns"
   ]
  },
  {
   "cell_type": "code",
   "execution_count": 3,
   "metadata": {},
   "outputs": [],
   "source": [
    "df = pd.read_csv(\"Human_Activity_Recognition_Using_Smartphones_Data.csv\")"
   ]
  },
  {
   "cell_type": "code",
   "execution_count": 4,
   "metadata": {},
   "outputs": [
    {
     "data": {
      "text/plain": [
       "['tBodyAcc-mean()-X',\n",
       " 'tBodyAcc-mean()-Y',\n",
       " 'tBodyAcc-mean()-Z',\n",
       " 'tBodyAcc-std()-X',\n",
       " 'tBodyAcc-std()-Y',\n",
       " 'tBodyAcc-std()-Z',\n",
       " 'tBodyAcc-mad()-X',\n",
       " 'tBodyAcc-mad()-Y',\n",
       " 'tBodyAcc-mad()-Z',\n",
       " 'tBodyAcc-max()-X',\n",
       " 'tBodyAcc-max()-Y',\n",
       " 'tBodyAcc-max()-Z',\n",
       " 'tBodyAcc-min()-X',\n",
       " 'tBodyAcc-min()-Y',\n",
       " 'tBodyAcc-min()-Z',\n",
       " 'tBodyAcc-sma()',\n",
       " 'tBodyAcc-energy()-X',\n",
       " 'tBodyAcc-energy()-Y',\n",
       " 'tBodyAcc-energy()-Z',\n",
       " 'tBodyAcc-iqr()-X',\n",
       " 'tBodyAcc-iqr()-Y',\n",
       " 'tBodyAcc-iqr()-Z',\n",
       " 'tBodyAcc-entropy()-X',\n",
       " 'tBodyAcc-entropy()-Y',\n",
       " 'tBodyAcc-entropy()-Z',\n",
       " 'tBodyAcc-arCoeff()-X,1',\n",
       " 'tBodyAcc-arCoeff()-X,2',\n",
       " 'tBodyAcc-arCoeff()-X,3',\n",
       " 'tBodyAcc-arCoeff()-X,4',\n",
       " 'tBodyAcc-arCoeff()-Y,1',\n",
       " 'tBodyAcc-arCoeff()-Y,2',\n",
       " 'tBodyAcc-arCoeff()-Y,3',\n",
       " 'tBodyAcc-arCoeff()-Y,4',\n",
       " 'tBodyAcc-arCoeff()-Z,1',\n",
       " 'tBodyAcc-arCoeff()-Z,2',\n",
       " 'tBodyAcc-arCoeff()-Z,3',\n",
       " 'tBodyAcc-arCoeff()-Z,4',\n",
       " 'tBodyAcc-correlation()-X,Y',\n",
       " 'tBodyAcc-correlation()-X,Z',\n",
       " 'tBodyAcc-correlation()-Y,Z',\n",
       " 'tGravityAcc-mean()-X',\n",
       " 'tGravityAcc-mean()-Y',\n",
       " 'tGravityAcc-mean()-Z',\n",
       " 'tGravityAcc-std()-X',\n",
       " 'tGravityAcc-std()-Y',\n",
       " 'tGravityAcc-std()-Z',\n",
       " 'tGravityAcc-mad()-X',\n",
       " 'tGravityAcc-mad()-Y',\n",
       " 'tGravityAcc-mad()-Z',\n",
       " 'tGravityAcc-max()-X',\n",
       " 'tGravityAcc-max()-Y',\n",
       " 'tGravityAcc-max()-Z',\n",
       " 'tGravityAcc-min()-X',\n",
       " 'tGravityAcc-min()-Y',\n",
       " 'tGravityAcc-min()-Z',\n",
       " 'tGravityAcc-sma()',\n",
       " 'tGravityAcc-energy()-X',\n",
       " 'tGravityAcc-energy()-Y',\n",
       " 'tGravityAcc-energy()-Z',\n",
       " 'tGravityAcc-iqr()-X',\n",
       " 'tGravityAcc-iqr()-Y',\n",
       " 'tGravityAcc-iqr()-Z',\n",
       " 'tGravityAcc-entropy()-X',\n",
       " 'tGravityAcc-entropy()-Y',\n",
       " 'tGravityAcc-entropy()-Z',\n",
       " 'tGravityAcc-arCoeff()-X,1',\n",
       " 'tGravityAcc-arCoeff()-X,2',\n",
       " 'tGravityAcc-arCoeff()-X,3',\n",
       " 'tGravityAcc-arCoeff()-X,4',\n",
       " 'tGravityAcc-arCoeff()-Y,1',\n",
       " 'tGravityAcc-arCoeff()-Y,2',\n",
       " 'tGravityAcc-arCoeff()-Y,3',\n",
       " 'tGravityAcc-arCoeff()-Y,4',\n",
       " 'tGravityAcc-arCoeff()-Z,1',\n",
       " 'tGravityAcc-arCoeff()-Z,2',\n",
       " 'tGravityAcc-arCoeff()-Z,3',\n",
       " 'tGravityAcc-arCoeff()-Z,4',\n",
       " 'tGravityAcc-correlation()-X,Y',\n",
       " 'tGravityAcc-correlation()-X,Z',\n",
       " 'tGravityAcc-correlation()-Y,Z',\n",
       " 'tBodyAccJerk-mean()-X',\n",
       " 'tBodyAccJerk-mean()-Y',\n",
       " 'tBodyAccJerk-mean()-Z',\n",
       " 'tBodyAccJerk-std()-X',\n",
       " 'tBodyAccJerk-std()-Y',\n",
       " 'tBodyAccJerk-std()-Z',\n",
       " 'tBodyAccJerk-mad()-X',\n",
       " 'tBodyAccJerk-mad()-Y',\n",
       " 'tBodyAccJerk-mad()-Z',\n",
       " 'tBodyAccJerk-max()-X',\n",
       " 'tBodyAccJerk-max()-Y',\n",
       " 'tBodyAccJerk-max()-Z',\n",
       " 'tBodyAccJerk-min()-X',\n",
       " 'tBodyAccJerk-min()-Y',\n",
       " 'tBodyAccJerk-min()-Z',\n",
       " 'tBodyAccJerk-sma()',\n",
       " 'tBodyAccJerk-energy()-X',\n",
       " 'tBodyAccJerk-energy()-Y',\n",
       " 'tBodyAccJerk-energy()-Z',\n",
       " 'tBodyAccJerk-iqr()-X',\n",
       " 'tBodyAccJerk-iqr()-Y',\n",
       " 'tBodyAccJerk-iqr()-Z',\n",
       " 'tBodyAccJerk-entropy()-X',\n",
       " 'tBodyAccJerk-entropy()-Y',\n",
       " 'tBodyAccJerk-entropy()-Z',\n",
       " 'tBodyAccJerk-arCoeff()-X,1',\n",
       " 'tBodyAccJerk-arCoeff()-X,2',\n",
       " 'tBodyAccJerk-arCoeff()-X,3',\n",
       " 'tBodyAccJerk-arCoeff()-X,4',\n",
       " 'tBodyAccJerk-arCoeff()-Y,1',\n",
       " 'tBodyAccJerk-arCoeff()-Y,2',\n",
       " 'tBodyAccJerk-arCoeff()-Y,3',\n",
       " 'tBodyAccJerk-arCoeff()-Y,4',\n",
       " 'tBodyAccJerk-arCoeff()-Z,1',\n",
       " 'tBodyAccJerk-arCoeff()-Z,2',\n",
       " 'tBodyAccJerk-arCoeff()-Z,3',\n",
       " 'tBodyAccJerk-arCoeff()-Z,4',\n",
       " 'tBodyAccJerk-correlation()-X,Y',\n",
       " 'tBodyAccJerk-correlation()-X,Z',\n",
       " 'tBodyAccJerk-correlation()-Y,Z',\n",
       " 'tBodyGyro-mean()-X',\n",
       " 'tBodyGyro-mean()-Y',\n",
       " 'tBodyGyro-mean()-Z',\n",
       " 'tBodyGyro-std()-X',\n",
       " 'tBodyGyro-std()-Y',\n",
       " 'tBodyGyro-std()-Z',\n",
       " 'tBodyGyro-mad()-X',\n",
       " 'tBodyGyro-mad()-Y',\n",
       " 'tBodyGyro-mad()-Z',\n",
       " 'tBodyGyro-max()-X',\n",
       " 'tBodyGyro-max()-Y',\n",
       " 'tBodyGyro-max()-Z',\n",
       " 'tBodyGyro-min()-X',\n",
       " 'tBodyGyro-min()-Y',\n",
       " 'tBodyGyro-min()-Z',\n",
       " 'tBodyGyro-sma()',\n",
       " 'tBodyGyro-energy()-X',\n",
       " 'tBodyGyro-energy()-Y',\n",
       " 'tBodyGyro-energy()-Z',\n",
       " 'tBodyGyro-iqr()-X',\n",
       " 'tBodyGyro-iqr()-Y',\n",
       " 'tBodyGyro-iqr()-Z',\n",
       " 'tBodyGyro-entropy()-X',\n",
       " 'tBodyGyro-entropy()-Y',\n",
       " 'tBodyGyro-entropy()-Z',\n",
       " 'tBodyGyro-arCoeff()-X,1',\n",
       " 'tBodyGyro-arCoeff()-X,2',\n",
       " 'tBodyGyro-arCoeff()-X,3',\n",
       " 'tBodyGyro-arCoeff()-X,4',\n",
       " 'tBodyGyro-arCoeff()-Y,1',\n",
       " 'tBodyGyro-arCoeff()-Y,2',\n",
       " 'tBodyGyro-arCoeff()-Y,3',\n",
       " 'tBodyGyro-arCoeff()-Y,4',\n",
       " 'tBodyGyro-arCoeff()-Z,1',\n",
       " 'tBodyGyro-arCoeff()-Z,2',\n",
       " 'tBodyGyro-arCoeff()-Z,3',\n",
       " 'tBodyGyro-arCoeff()-Z,4',\n",
       " 'tBodyGyro-correlation()-X,Y',\n",
       " 'tBodyGyro-correlation()-X,Z',\n",
       " 'tBodyGyro-correlation()-Y,Z',\n",
       " 'tBodyGyroJerk-mean()-X',\n",
       " 'tBodyGyroJerk-mean()-Y',\n",
       " 'tBodyGyroJerk-mean()-Z',\n",
       " 'tBodyGyroJerk-std()-X',\n",
       " 'tBodyGyroJerk-std()-Y',\n",
       " 'tBodyGyroJerk-std()-Z',\n",
       " 'tBodyGyroJerk-mad()-X',\n",
       " 'tBodyGyroJerk-mad()-Y',\n",
       " 'tBodyGyroJerk-mad()-Z',\n",
       " 'tBodyGyroJerk-max()-X',\n",
       " 'tBodyGyroJerk-max()-Y',\n",
       " 'tBodyGyroJerk-max()-Z',\n",
       " 'tBodyGyroJerk-min()-X',\n",
       " 'tBodyGyroJerk-min()-Y',\n",
       " 'tBodyGyroJerk-min()-Z',\n",
       " 'tBodyGyroJerk-sma()',\n",
       " 'tBodyGyroJerk-energy()-X',\n",
       " 'tBodyGyroJerk-energy()-Y',\n",
       " 'tBodyGyroJerk-energy()-Z',\n",
       " 'tBodyGyroJerk-iqr()-X',\n",
       " 'tBodyGyroJerk-iqr()-Y',\n",
       " 'tBodyGyroJerk-iqr()-Z',\n",
       " 'tBodyGyroJerk-entropy()-X',\n",
       " 'tBodyGyroJerk-entropy()-Y',\n",
       " 'tBodyGyroJerk-entropy()-Z',\n",
       " 'tBodyGyroJerk-arCoeff()-X,1',\n",
       " 'tBodyGyroJerk-arCoeff()-X,2',\n",
       " 'tBodyGyroJerk-arCoeff()-X,3',\n",
       " 'tBodyGyroJerk-arCoeff()-X,4',\n",
       " 'tBodyGyroJerk-arCoeff()-Y,1',\n",
       " 'tBodyGyroJerk-arCoeff()-Y,2',\n",
       " 'tBodyGyroJerk-arCoeff()-Y,3',\n",
       " 'tBodyGyroJerk-arCoeff()-Y,4',\n",
       " 'tBodyGyroJerk-arCoeff()-Z,1',\n",
       " 'tBodyGyroJerk-arCoeff()-Z,2',\n",
       " 'tBodyGyroJerk-arCoeff()-Z,3',\n",
       " 'tBodyGyroJerk-arCoeff()-Z,4',\n",
       " 'tBodyGyroJerk-correlation()-X,Y',\n",
       " 'tBodyGyroJerk-correlation()-X,Z',\n",
       " 'tBodyGyroJerk-correlation()-Y,Z',\n",
       " 'tBodyAccMag-mean()',\n",
       " 'tBodyAccMag-std()',\n",
       " 'tBodyAccMag-mad()',\n",
       " 'tBodyAccMag-max()',\n",
       " 'tBodyAccMag-min()',\n",
       " 'tBodyAccMag-sma()',\n",
       " 'tBodyAccMag-energy()',\n",
       " 'tBodyAccMag-iqr()',\n",
       " 'tBodyAccMag-entropy()',\n",
       " 'tBodyAccMag-arCoeff()1',\n",
       " 'tBodyAccMag-arCoeff()2',\n",
       " 'tBodyAccMag-arCoeff()3',\n",
       " 'tBodyAccMag-arCoeff()4',\n",
       " 'tGravityAccMag-mean()',\n",
       " 'tGravityAccMag-std()',\n",
       " 'tGravityAccMag-mad()',\n",
       " 'tGravityAccMag-max()',\n",
       " 'tGravityAccMag-min()',\n",
       " 'tGravityAccMag-sma()',\n",
       " 'tGravityAccMag-energy()',\n",
       " 'tGravityAccMag-iqr()',\n",
       " 'tGravityAccMag-entropy()',\n",
       " 'tGravityAccMag-arCoeff()1',\n",
       " 'tGravityAccMag-arCoeff()2',\n",
       " 'tGravityAccMag-arCoeff()3',\n",
       " 'tGravityAccMag-arCoeff()4',\n",
       " 'tBodyAccJerkMag-mean()',\n",
       " 'tBodyAccJerkMag-std()',\n",
       " 'tBodyAccJerkMag-mad()',\n",
       " 'tBodyAccJerkMag-max()',\n",
       " 'tBodyAccJerkMag-min()',\n",
       " 'tBodyAccJerkMag-sma()',\n",
       " 'tBodyAccJerkMag-energy()',\n",
       " 'tBodyAccJerkMag-iqr()',\n",
       " 'tBodyAccJerkMag-entropy()',\n",
       " 'tBodyAccJerkMag-arCoeff()1',\n",
       " 'tBodyAccJerkMag-arCoeff()2',\n",
       " 'tBodyAccJerkMag-arCoeff()3',\n",
       " 'tBodyAccJerkMag-arCoeff()4',\n",
       " 'tBodyGyroMag-mean()',\n",
       " 'tBodyGyroMag-std()',\n",
       " 'tBodyGyroMag-mad()',\n",
       " 'tBodyGyroMag-max()',\n",
       " 'tBodyGyroMag-min()',\n",
       " 'tBodyGyroMag-sma()',\n",
       " 'tBodyGyroMag-energy()',\n",
       " 'tBodyGyroMag-iqr()',\n",
       " 'tBodyGyroMag-entropy()',\n",
       " 'tBodyGyroMag-arCoeff()1',\n",
       " 'tBodyGyroMag-arCoeff()2',\n",
       " 'tBodyGyroMag-arCoeff()3',\n",
       " 'tBodyGyroMag-arCoeff()4',\n",
       " 'tBodyGyroJerkMag-mean()',\n",
       " 'tBodyGyroJerkMag-std()',\n",
       " 'tBodyGyroJerkMag-mad()',\n",
       " 'tBodyGyroJerkMag-max()',\n",
       " 'tBodyGyroJerkMag-min()',\n",
       " 'tBodyGyroJerkMag-sma()',\n",
       " 'tBodyGyroJerkMag-energy()',\n",
       " 'tBodyGyroJerkMag-iqr()',\n",
       " 'tBodyGyroJerkMag-entropy()',\n",
       " 'tBodyGyroJerkMag-arCoeff()1',\n",
       " 'tBodyGyroJerkMag-arCoeff()2',\n",
       " 'tBodyGyroJerkMag-arCoeff()3',\n",
       " 'tBodyGyroJerkMag-arCoeff()4',\n",
       " 'fBodyAcc-mean()-X',\n",
       " 'fBodyAcc-mean()-Y',\n",
       " 'fBodyAcc-mean()-Z',\n",
       " 'fBodyAcc-std()-X',\n",
       " 'fBodyAcc-std()-Y',\n",
       " 'fBodyAcc-std()-Z',\n",
       " 'fBodyAcc-mad()-X',\n",
       " 'fBodyAcc-mad()-Y',\n",
       " 'fBodyAcc-mad()-Z',\n",
       " 'fBodyAcc-max()-X',\n",
       " 'fBodyAcc-max()-Y',\n",
       " 'fBodyAcc-max()-Z',\n",
       " 'fBodyAcc-min()-X',\n",
       " 'fBodyAcc-min()-Y',\n",
       " 'fBodyAcc-min()-Z',\n",
       " 'fBodyAcc-sma()',\n",
       " 'fBodyAcc-energy()-X',\n",
       " 'fBodyAcc-energy()-Y',\n",
       " 'fBodyAcc-energy()-Z',\n",
       " 'fBodyAcc-iqr()-X',\n",
       " 'fBodyAcc-iqr()-Y',\n",
       " 'fBodyAcc-iqr()-Z',\n",
       " 'fBodyAcc-entropy()-X',\n",
       " 'fBodyAcc-entropy()-Y',\n",
       " 'fBodyAcc-entropy()-Z',\n",
       " 'fBodyAcc-maxInds-X',\n",
       " 'fBodyAcc-maxInds-Y',\n",
       " 'fBodyAcc-maxInds-Z',\n",
       " 'fBodyAcc-meanFreq()-X',\n",
       " 'fBodyAcc-meanFreq()-Y',\n",
       " 'fBodyAcc-meanFreq()-Z',\n",
       " 'fBodyAcc-skewness()-X',\n",
       " 'fBodyAcc-kurtosis()-X',\n",
       " 'fBodyAcc-skewness()-Y',\n",
       " 'fBodyAcc-kurtosis()-Y',\n",
       " 'fBodyAcc-skewness()-Z',\n",
       " 'fBodyAcc-kurtosis()-Z',\n",
       " 'fBodyAcc-bandsEnergy()-1,8',\n",
       " 'fBodyAcc-bandsEnergy()-9,16',\n",
       " 'fBodyAcc-bandsEnergy()-17,24',\n",
       " 'fBodyAcc-bandsEnergy()-25,32',\n",
       " 'fBodyAcc-bandsEnergy()-33,40',\n",
       " 'fBodyAcc-bandsEnergy()-41,48',\n",
       " 'fBodyAcc-bandsEnergy()-49,56',\n",
       " 'fBodyAcc-bandsEnergy()-57,64',\n",
       " 'fBodyAcc-bandsEnergy()-1,16',\n",
       " 'fBodyAcc-bandsEnergy()-17,32',\n",
       " 'fBodyAcc-bandsEnergy()-33,48',\n",
       " 'fBodyAcc-bandsEnergy()-49,64',\n",
       " 'fBodyAcc-bandsEnergy()-1,24',\n",
       " 'fBodyAcc-bandsEnergy()-25,48',\n",
       " 'fBodyAcc-bandsEnergy()-1,8.1',\n",
       " 'fBodyAcc-bandsEnergy()-9,16.1',\n",
       " 'fBodyAcc-bandsEnergy()-17,24.1',\n",
       " 'fBodyAcc-bandsEnergy()-25,32.1',\n",
       " 'fBodyAcc-bandsEnergy()-33,40.1',\n",
       " 'fBodyAcc-bandsEnergy()-41,48.1',\n",
       " 'fBodyAcc-bandsEnergy()-49,56.1',\n",
       " 'fBodyAcc-bandsEnergy()-57,64.1',\n",
       " 'fBodyAcc-bandsEnergy()-1,16.1',\n",
       " 'fBodyAcc-bandsEnergy()-17,32.1',\n",
       " 'fBodyAcc-bandsEnergy()-33,48.1',\n",
       " 'fBodyAcc-bandsEnergy()-49,64.1',\n",
       " 'fBodyAcc-bandsEnergy()-1,24.1',\n",
       " 'fBodyAcc-bandsEnergy()-25,48.1',\n",
       " 'fBodyAcc-bandsEnergy()-1,8.2',\n",
       " 'fBodyAcc-bandsEnergy()-9,16.2',\n",
       " 'fBodyAcc-bandsEnergy()-17,24.2',\n",
       " 'fBodyAcc-bandsEnergy()-25,32.2',\n",
       " 'fBodyAcc-bandsEnergy()-33,40.2',\n",
       " 'fBodyAcc-bandsEnergy()-41,48.2',\n",
       " 'fBodyAcc-bandsEnergy()-49,56.2',\n",
       " 'fBodyAcc-bandsEnergy()-57,64.2',\n",
       " 'fBodyAcc-bandsEnergy()-1,16.2',\n",
       " 'fBodyAcc-bandsEnergy()-17,32.2',\n",
       " 'fBodyAcc-bandsEnergy()-33,48.2',\n",
       " 'fBodyAcc-bandsEnergy()-49,64.2',\n",
       " 'fBodyAcc-bandsEnergy()-1,24.2',\n",
       " 'fBodyAcc-bandsEnergy()-25,48.2',\n",
       " 'fBodyAccJerk-mean()-X',\n",
       " 'fBodyAccJerk-mean()-Y',\n",
       " 'fBodyAccJerk-mean()-Z',\n",
       " 'fBodyAccJerk-std()-X',\n",
       " 'fBodyAccJerk-std()-Y',\n",
       " 'fBodyAccJerk-std()-Z',\n",
       " 'fBodyAccJerk-mad()-X',\n",
       " 'fBodyAccJerk-mad()-Y',\n",
       " 'fBodyAccJerk-mad()-Z',\n",
       " 'fBodyAccJerk-max()-X',\n",
       " 'fBodyAccJerk-max()-Y',\n",
       " 'fBodyAccJerk-max()-Z',\n",
       " 'fBodyAccJerk-min()-X',\n",
       " 'fBodyAccJerk-min()-Y',\n",
       " 'fBodyAccJerk-min()-Z',\n",
       " 'fBodyAccJerk-sma()',\n",
       " 'fBodyAccJerk-energy()-X',\n",
       " 'fBodyAccJerk-energy()-Y',\n",
       " 'fBodyAccJerk-energy()-Z',\n",
       " 'fBodyAccJerk-iqr()-X',\n",
       " 'fBodyAccJerk-iqr()-Y',\n",
       " 'fBodyAccJerk-iqr()-Z',\n",
       " 'fBodyAccJerk-entropy()-X',\n",
       " 'fBodyAccJerk-entropy()-Y',\n",
       " 'fBodyAccJerk-entropy()-Z',\n",
       " 'fBodyAccJerk-maxInds-X',\n",
       " 'fBodyAccJerk-maxInds-Y',\n",
       " 'fBodyAccJerk-maxInds-Z',\n",
       " 'fBodyAccJerk-meanFreq()-X',\n",
       " 'fBodyAccJerk-meanFreq()-Y',\n",
       " 'fBodyAccJerk-meanFreq()-Z',\n",
       " 'fBodyAccJerk-skewness()-X',\n",
       " 'fBodyAccJerk-kurtosis()-X',\n",
       " 'fBodyAccJerk-skewness()-Y',\n",
       " 'fBodyAccJerk-kurtosis()-Y',\n",
       " 'fBodyAccJerk-skewness()-Z',\n",
       " 'fBodyAccJerk-kurtosis()-Z',\n",
       " 'fBodyAccJerk-bandsEnergy()-1,8',\n",
       " 'fBodyAccJerk-bandsEnergy()-9,16',\n",
       " 'fBodyAccJerk-bandsEnergy()-17,24',\n",
       " 'fBodyAccJerk-bandsEnergy()-25,32',\n",
       " 'fBodyAccJerk-bandsEnergy()-33,40',\n",
       " 'fBodyAccJerk-bandsEnergy()-41,48',\n",
       " 'fBodyAccJerk-bandsEnergy()-49,56',\n",
       " 'fBodyAccJerk-bandsEnergy()-57,64',\n",
       " 'fBodyAccJerk-bandsEnergy()-1,16',\n",
       " 'fBodyAccJerk-bandsEnergy()-17,32',\n",
       " 'fBodyAccJerk-bandsEnergy()-33,48',\n",
       " 'fBodyAccJerk-bandsEnergy()-49,64',\n",
       " 'fBodyAccJerk-bandsEnergy()-1,24',\n",
       " 'fBodyAccJerk-bandsEnergy()-25,48',\n",
       " 'fBodyAccJerk-bandsEnergy()-1,8.1',\n",
       " 'fBodyAccJerk-bandsEnergy()-9,16.1',\n",
       " 'fBodyAccJerk-bandsEnergy()-17,24.1',\n",
       " 'fBodyAccJerk-bandsEnergy()-25,32.1',\n",
       " 'fBodyAccJerk-bandsEnergy()-33,40.1',\n",
       " 'fBodyAccJerk-bandsEnergy()-41,48.1',\n",
       " 'fBodyAccJerk-bandsEnergy()-49,56.1',\n",
       " 'fBodyAccJerk-bandsEnergy()-57,64.1',\n",
       " 'fBodyAccJerk-bandsEnergy()-1,16.1',\n",
       " 'fBodyAccJerk-bandsEnergy()-17,32.1',\n",
       " 'fBodyAccJerk-bandsEnergy()-33,48.1',\n",
       " 'fBodyAccJerk-bandsEnergy()-49,64.1',\n",
       " 'fBodyAccJerk-bandsEnergy()-1,24.1',\n",
       " 'fBodyAccJerk-bandsEnergy()-25,48.1',\n",
       " 'fBodyAccJerk-bandsEnergy()-1,8.2',\n",
       " 'fBodyAccJerk-bandsEnergy()-9,16.2',\n",
       " 'fBodyAccJerk-bandsEnergy()-17,24.2',\n",
       " 'fBodyAccJerk-bandsEnergy()-25,32.2',\n",
       " 'fBodyAccJerk-bandsEnergy()-33,40.2',\n",
       " 'fBodyAccJerk-bandsEnergy()-41,48.2',\n",
       " 'fBodyAccJerk-bandsEnergy()-49,56.2',\n",
       " 'fBodyAccJerk-bandsEnergy()-57,64.2',\n",
       " 'fBodyAccJerk-bandsEnergy()-1,16.2',\n",
       " 'fBodyAccJerk-bandsEnergy()-17,32.2',\n",
       " 'fBodyAccJerk-bandsEnergy()-33,48.2',\n",
       " 'fBodyAccJerk-bandsEnergy()-49,64.2',\n",
       " 'fBodyAccJerk-bandsEnergy()-1,24.2',\n",
       " 'fBodyAccJerk-bandsEnergy()-25,48.2',\n",
       " 'fBodyGyro-mean()-X',\n",
       " 'fBodyGyro-mean()-Y',\n",
       " 'fBodyGyro-mean()-Z',\n",
       " 'fBodyGyro-std()-X',\n",
       " 'fBodyGyro-std()-Y',\n",
       " 'fBodyGyro-std()-Z',\n",
       " 'fBodyGyro-mad()-X',\n",
       " 'fBodyGyro-mad()-Y',\n",
       " 'fBodyGyro-mad()-Z',\n",
       " 'fBodyGyro-max()-X',\n",
       " 'fBodyGyro-max()-Y',\n",
       " 'fBodyGyro-max()-Z',\n",
       " 'fBodyGyro-min()-X',\n",
       " 'fBodyGyro-min()-Y',\n",
       " 'fBodyGyro-min()-Z',\n",
       " 'fBodyGyro-sma()',\n",
       " 'fBodyGyro-energy()-X',\n",
       " 'fBodyGyro-energy()-Y',\n",
       " 'fBodyGyro-energy()-Z',\n",
       " 'fBodyGyro-iqr()-X',\n",
       " 'fBodyGyro-iqr()-Y',\n",
       " 'fBodyGyro-iqr()-Z',\n",
       " 'fBodyGyro-entropy()-X',\n",
       " 'fBodyGyro-entropy()-Y',\n",
       " 'fBodyGyro-entropy()-Z',\n",
       " 'fBodyGyro-maxInds-X',\n",
       " 'fBodyGyro-maxInds-Y',\n",
       " 'fBodyGyro-maxInds-Z',\n",
       " 'fBodyGyro-meanFreq()-X',\n",
       " 'fBodyGyro-meanFreq()-Y',\n",
       " 'fBodyGyro-meanFreq()-Z',\n",
       " 'fBodyGyro-skewness()-X',\n",
       " 'fBodyGyro-kurtosis()-X',\n",
       " 'fBodyGyro-skewness()-Y',\n",
       " 'fBodyGyro-kurtosis()-Y',\n",
       " 'fBodyGyro-skewness()-Z',\n",
       " 'fBodyGyro-kurtosis()-Z',\n",
       " 'fBodyGyro-bandsEnergy()-1,8',\n",
       " 'fBodyGyro-bandsEnergy()-9,16',\n",
       " 'fBodyGyro-bandsEnergy()-17,24',\n",
       " 'fBodyGyro-bandsEnergy()-25,32',\n",
       " 'fBodyGyro-bandsEnergy()-33,40',\n",
       " 'fBodyGyro-bandsEnergy()-41,48',\n",
       " 'fBodyGyro-bandsEnergy()-49,56',\n",
       " 'fBodyGyro-bandsEnergy()-57,64',\n",
       " 'fBodyGyro-bandsEnergy()-1,16',\n",
       " 'fBodyGyro-bandsEnergy()-17,32',\n",
       " 'fBodyGyro-bandsEnergy()-33,48',\n",
       " 'fBodyGyro-bandsEnergy()-49,64',\n",
       " 'fBodyGyro-bandsEnergy()-1,24',\n",
       " 'fBodyGyro-bandsEnergy()-25,48',\n",
       " 'fBodyGyro-bandsEnergy()-1,8.1',\n",
       " 'fBodyGyro-bandsEnergy()-9,16.1',\n",
       " 'fBodyGyro-bandsEnergy()-17,24.1',\n",
       " 'fBodyGyro-bandsEnergy()-25,32.1',\n",
       " 'fBodyGyro-bandsEnergy()-33,40.1',\n",
       " 'fBodyGyro-bandsEnergy()-41,48.1',\n",
       " 'fBodyGyro-bandsEnergy()-49,56.1',\n",
       " 'fBodyGyro-bandsEnergy()-57,64.1',\n",
       " 'fBodyGyro-bandsEnergy()-1,16.1',\n",
       " 'fBodyGyro-bandsEnergy()-17,32.1',\n",
       " 'fBodyGyro-bandsEnergy()-33,48.1',\n",
       " 'fBodyGyro-bandsEnergy()-49,64.1',\n",
       " 'fBodyGyro-bandsEnergy()-1,24.1',\n",
       " 'fBodyGyro-bandsEnergy()-25,48.1',\n",
       " 'fBodyGyro-bandsEnergy()-1,8.2',\n",
       " 'fBodyGyro-bandsEnergy()-9,16.2',\n",
       " 'fBodyGyro-bandsEnergy()-17,24.2',\n",
       " 'fBodyGyro-bandsEnergy()-25,32.2',\n",
       " 'fBodyGyro-bandsEnergy()-33,40.2',\n",
       " 'fBodyGyro-bandsEnergy()-41,48.2',\n",
       " 'fBodyGyro-bandsEnergy()-49,56.2',\n",
       " 'fBodyGyro-bandsEnergy()-57,64.2',\n",
       " 'fBodyGyro-bandsEnergy()-1,16.2',\n",
       " 'fBodyGyro-bandsEnergy()-17,32.2',\n",
       " 'fBodyGyro-bandsEnergy()-33,48.2',\n",
       " 'fBodyGyro-bandsEnergy()-49,64.2',\n",
       " 'fBodyGyro-bandsEnergy()-1,24.2',\n",
       " 'fBodyGyro-bandsEnergy()-25,48.2',\n",
       " 'fBodyAccMag-mean()',\n",
       " 'fBodyAccMag-std()',\n",
       " 'fBodyAccMag-mad()',\n",
       " 'fBodyAccMag-max()',\n",
       " 'fBodyAccMag-min()',\n",
       " 'fBodyAccMag-sma()',\n",
       " 'fBodyAccMag-energy()',\n",
       " 'fBodyAccMag-iqr()',\n",
       " 'fBodyAccMag-entropy()',\n",
       " 'fBodyAccMag-maxInds',\n",
       " 'fBodyAccMag-meanFreq()',\n",
       " 'fBodyAccMag-skewness()',\n",
       " 'fBodyAccMag-kurtosis()',\n",
       " 'fBodyBodyAccJerkMag-mean()',\n",
       " 'fBodyBodyAccJerkMag-std()',\n",
       " 'fBodyBodyAccJerkMag-mad()',\n",
       " 'fBodyBodyAccJerkMag-max()',\n",
       " 'fBodyBodyAccJerkMag-min()',\n",
       " 'fBodyBodyAccJerkMag-sma()',\n",
       " 'fBodyBodyAccJerkMag-energy()',\n",
       " 'fBodyBodyAccJerkMag-iqr()',\n",
       " 'fBodyBodyAccJerkMag-entropy()',\n",
       " 'fBodyBodyAccJerkMag-maxInds',\n",
       " 'fBodyBodyAccJerkMag-meanFreq()',\n",
       " 'fBodyBodyAccJerkMag-skewness()',\n",
       " 'fBodyBodyAccJerkMag-kurtosis()',\n",
       " 'fBodyBodyGyroMag-mean()',\n",
       " 'fBodyBodyGyroMag-std()',\n",
       " 'fBodyBodyGyroMag-mad()',\n",
       " 'fBodyBodyGyroMag-max()',\n",
       " 'fBodyBodyGyroMag-min()',\n",
       " 'fBodyBodyGyroMag-sma()',\n",
       " 'fBodyBodyGyroMag-energy()',\n",
       " 'fBodyBodyGyroMag-iqr()',\n",
       " 'fBodyBodyGyroMag-entropy()',\n",
       " 'fBodyBodyGyroMag-maxInds',\n",
       " 'fBodyBodyGyroMag-meanFreq()',\n",
       " 'fBodyBodyGyroMag-skewness()',\n",
       " 'fBodyBodyGyroMag-kurtosis()',\n",
       " 'fBodyBodyGyroJerkMag-mean()',\n",
       " 'fBodyBodyGyroJerkMag-std()',\n",
       " 'fBodyBodyGyroJerkMag-mad()',\n",
       " 'fBodyBodyGyroJerkMag-max()',\n",
       " 'fBodyBodyGyroJerkMag-min()',\n",
       " 'fBodyBodyGyroJerkMag-sma()',\n",
       " 'fBodyBodyGyroJerkMag-energy()',\n",
       " 'fBodyBodyGyroJerkMag-iqr()',\n",
       " 'fBodyBodyGyroJerkMag-entropy()',\n",
       " 'fBodyBodyGyroJerkMag-maxInds',\n",
       " 'fBodyBodyGyroJerkMag-meanFreq()',\n",
       " 'fBodyBodyGyroJerkMag-skewness()',\n",
       " 'fBodyBodyGyroJerkMag-kurtosis()',\n",
       " 'angle(tBodyAccMean,gravity)',\n",
       " 'angle(tBodyAccJerkMean),gravityMean)',\n",
       " 'angle(tBodyGyroMean,gravityMean)',\n",
       " 'angle(tBodyGyroJerkMean,gravityMean)',\n",
       " 'angle(X,gravityMean)',\n",
       " 'angle(Y,gravityMean)',\n",
       " 'angle(Z,gravityMean)',\n",
       " 'Activity']"
      ]
     },
     "execution_count": 4,
     "metadata": {},
     "output_type": "execute_result"
    }
   ],
   "source": [
    "list(df.columns)"
   ]
  },
  {
   "cell_type": "code",
   "execution_count": 5,
   "metadata": {},
   "outputs": [
    {
     "data": {
      "text/plain": [
       "LAYING                1944\n",
       "STANDING              1906\n",
       "SITTING               1777\n",
       "WALKING               1722\n",
       "WALKING_UPSTAIRS      1544\n",
       "WALKING_DOWNSTAIRS    1406\n",
       "Name: Activity, dtype: int64"
      ]
     },
     "execution_count": 5,
     "metadata": {},
     "output_type": "execute_result"
    }
   ],
   "source": [
    "df['Activity'].value_counts()"
   ]
  },
  {
   "cell_type": "code",
   "execution_count": 6,
   "metadata": {},
   "outputs": [],
   "source": [
    "df['Activity'] = df['Activity'].map({'LAYING':0, 'STANDING':1,'SITTING':2,'WALKING':3,'WALKING_UPSTAIRS':4,'WALKING_DOWNSTAIRS':5})"
   ]
  },
  {
   "cell_type": "code",
   "execution_count": 7,
   "metadata": {},
   "outputs": [
    {
     "data": {
      "text/html": [
       "<div>\n",
       "<style scoped>\n",
       "    .dataframe tbody tr th:only-of-type {\n",
       "        vertical-align: middle;\n",
       "    }\n",
       "\n",
       "    .dataframe tbody tr th {\n",
       "        vertical-align: top;\n",
       "    }\n",
       "\n",
       "    .dataframe thead th {\n",
       "        text-align: right;\n",
       "    }\n",
       "</style>\n",
       "<table border=\"1\" class=\"dataframe\">\n",
       "  <thead>\n",
       "    <tr style=\"text-align: right;\">\n",
       "      <th></th>\n",
       "      <th>tBodyAcc-mean()-X</th>\n",
       "      <th>tBodyAcc-mean()-Y</th>\n",
       "      <th>tBodyAcc-mean()-Z</th>\n",
       "      <th>tBodyAcc-std()-X</th>\n",
       "      <th>tBodyAcc-std()-Y</th>\n",
       "      <th>tBodyAcc-std()-Z</th>\n",
       "      <th>tBodyAcc-mad()-X</th>\n",
       "      <th>tBodyAcc-mad()-Y</th>\n",
       "      <th>tBodyAcc-mad()-Z</th>\n",
       "      <th>tBodyAcc-max()-X</th>\n",
       "      <th>...</th>\n",
       "      <th>fBodyBodyGyroJerkMag-skewness()</th>\n",
       "      <th>fBodyBodyGyroJerkMag-kurtosis()</th>\n",
       "      <th>angle(tBodyAccMean,gravity)</th>\n",
       "      <th>angle(tBodyAccJerkMean),gravityMean)</th>\n",
       "      <th>angle(tBodyGyroMean,gravityMean)</th>\n",
       "      <th>angle(tBodyGyroJerkMean,gravityMean)</th>\n",
       "      <th>angle(X,gravityMean)</th>\n",
       "      <th>angle(Y,gravityMean)</th>\n",
       "      <th>angle(Z,gravityMean)</th>\n",
       "      <th>Activity</th>\n",
       "    </tr>\n",
       "  </thead>\n",
       "  <tbody>\n",
       "    <tr>\n",
       "      <th>0</th>\n",
       "      <td>0.288585</td>\n",
       "      <td>-0.020294</td>\n",
       "      <td>-0.132905</td>\n",
       "      <td>-0.995279</td>\n",
       "      <td>-0.983111</td>\n",
       "      <td>-0.913526</td>\n",
       "      <td>-0.995112</td>\n",
       "      <td>-0.983185</td>\n",
       "      <td>-0.923527</td>\n",
       "      <td>-0.934724</td>\n",
       "      <td>...</td>\n",
       "      <td>-0.298676</td>\n",
       "      <td>-0.710304</td>\n",
       "      <td>-0.112754</td>\n",
       "      <td>0.030400</td>\n",
       "      <td>-0.464761</td>\n",
       "      <td>-0.018446</td>\n",
       "      <td>-0.841247</td>\n",
       "      <td>0.179941</td>\n",
       "      <td>-0.058627</td>\n",
       "      <td>1</td>\n",
       "    </tr>\n",
       "    <tr>\n",
       "      <th>1</th>\n",
       "      <td>0.278419</td>\n",
       "      <td>-0.016411</td>\n",
       "      <td>-0.123520</td>\n",
       "      <td>-0.998245</td>\n",
       "      <td>-0.975300</td>\n",
       "      <td>-0.960322</td>\n",
       "      <td>-0.998807</td>\n",
       "      <td>-0.974914</td>\n",
       "      <td>-0.957686</td>\n",
       "      <td>-0.943068</td>\n",
       "      <td>...</td>\n",
       "      <td>-0.595051</td>\n",
       "      <td>-0.861499</td>\n",
       "      <td>0.053477</td>\n",
       "      <td>-0.007435</td>\n",
       "      <td>-0.732626</td>\n",
       "      <td>0.703511</td>\n",
       "      <td>-0.844788</td>\n",
       "      <td>0.180289</td>\n",
       "      <td>-0.054317</td>\n",
       "      <td>1</td>\n",
       "    </tr>\n",
       "  </tbody>\n",
       "</table>\n",
       "<p>2 rows × 562 columns</p>\n",
       "</div>"
      ],
      "text/plain": [
       "   tBodyAcc-mean()-X  tBodyAcc-mean()-Y  tBodyAcc-mean()-Z  tBodyAcc-std()-X  \\\n",
       "0           0.288585          -0.020294          -0.132905         -0.995279   \n",
       "1           0.278419          -0.016411          -0.123520         -0.998245   \n",
       "\n",
       "   tBodyAcc-std()-Y  tBodyAcc-std()-Z  tBodyAcc-mad()-X  tBodyAcc-mad()-Y  \\\n",
       "0         -0.983111         -0.913526         -0.995112         -0.983185   \n",
       "1         -0.975300         -0.960322         -0.998807         -0.974914   \n",
       "\n",
       "   tBodyAcc-mad()-Z  tBodyAcc-max()-X  ...  fBodyBodyGyroJerkMag-skewness()  \\\n",
       "0         -0.923527         -0.934724  ...                        -0.298676   \n",
       "1         -0.957686         -0.943068  ...                        -0.595051   \n",
       "\n",
       "   fBodyBodyGyroJerkMag-kurtosis()  angle(tBodyAccMean,gravity)  \\\n",
       "0                        -0.710304                    -0.112754   \n",
       "1                        -0.861499                     0.053477   \n",
       "\n",
       "   angle(tBodyAccJerkMean),gravityMean)  angle(tBodyGyroMean,gravityMean)  \\\n",
       "0                              0.030400                         -0.464761   \n",
       "1                             -0.007435                         -0.732626   \n",
       "\n",
       "   angle(tBodyGyroJerkMean,gravityMean)  angle(X,gravityMean)  \\\n",
       "0                             -0.018446             -0.841247   \n",
       "1                              0.703511             -0.844788   \n",
       "\n",
       "   angle(Y,gravityMean)  angle(Z,gravityMean)  Activity  \n",
       "0              0.179941             -0.058627         1  \n",
       "1              0.180289             -0.054317         1  \n",
       "\n",
       "[2 rows x 562 columns]"
      ]
     },
     "execution_count": 7,
     "metadata": {},
     "output_type": "execute_result"
    }
   ],
   "source": [
    "df.head(2)"
   ]
  },
  {
   "cell_type": "code",
   "execution_count": 8,
   "metadata": {},
   "outputs": [],
   "source": [
    "X = df.drop('Activity', axis=1)\n",
    "y = df['Activity']"
   ]
  },
  {
   "cell_type": "code",
   "execution_count": 9,
   "metadata": {},
   "outputs": [
    {
     "data": {
      "text/html": [
       "<div>\n",
       "<style scoped>\n",
       "    .dataframe tbody tr th:only-of-type {\n",
       "        vertical-align: middle;\n",
       "    }\n",
       "\n",
       "    .dataframe tbody tr th {\n",
       "        vertical-align: top;\n",
       "    }\n",
       "\n",
       "    .dataframe thead th {\n",
       "        text-align: right;\n",
       "    }\n",
       "</style>\n",
       "<table border=\"1\" class=\"dataframe\">\n",
       "  <thead>\n",
       "    <tr style=\"text-align: right;\">\n",
       "      <th></th>\n",
       "      <th>tBodyAcc-mean()-X</th>\n",
       "      <th>tBodyAcc-mean()-Y</th>\n",
       "      <th>tBodyAcc-mean()-Z</th>\n",
       "      <th>tBodyAcc-std()-X</th>\n",
       "      <th>tBodyAcc-std()-Y</th>\n",
       "      <th>tBodyAcc-std()-Z</th>\n",
       "      <th>tBodyAcc-mad()-X</th>\n",
       "      <th>tBodyAcc-mad()-Y</th>\n",
       "      <th>tBodyAcc-mad()-Z</th>\n",
       "      <th>tBodyAcc-max()-X</th>\n",
       "      <th>...</th>\n",
       "      <th>fBodyBodyGyroJerkMag-meanFreq()</th>\n",
       "      <th>fBodyBodyGyroJerkMag-skewness()</th>\n",
       "      <th>fBodyBodyGyroJerkMag-kurtosis()</th>\n",
       "      <th>angle(tBodyAccMean,gravity)</th>\n",
       "      <th>angle(tBodyAccJerkMean),gravityMean)</th>\n",
       "      <th>angle(tBodyGyroMean,gravityMean)</th>\n",
       "      <th>angle(tBodyGyroJerkMean,gravityMean)</th>\n",
       "      <th>angle(X,gravityMean)</th>\n",
       "      <th>angle(Y,gravityMean)</th>\n",
       "      <th>angle(Z,gravityMean)</th>\n",
       "    </tr>\n",
       "  </thead>\n",
       "  <tbody>\n",
       "    <tr>\n",
       "      <th>0</th>\n",
       "      <td>0.288585</td>\n",
       "      <td>-0.020294</td>\n",
       "      <td>-0.132905</td>\n",
       "      <td>-0.995279</td>\n",
       "      <td>-0.983111</td>\n",
       "      <td>-0.913526</td>\n",
       "      <td>-0.995112</td>\n",
       "      <td>-0.983185</td>\n",
       "      <td>-0.923527</td>\n",
       "      <td>-0.934724</td>\n",
       "      <td>...</td>\n",
       "      <td>-0.074323</td>\n",
       "      <td>-0.298676</td>\n",
       "      <td>-0.710304</td>\n",
       "      <td>-0.112754</td>\n",
       "      <td>0.030400</td>\n",
       "      <td>-0.464761</td>\n",
       "      <td>-0.018446</td>\n",
       "      <td>-0.841247</td>\n",
       "      <td>0.179941</td>\n",
       "      <td>-0.058627</td>\n",
       "    </tr>\n",
       "    <tr>\n",
       "      <th>1</th>\n",
       "      <td>0.278419</td>\n",
       "      <td>-0.016411</td>\n",
       "      <td>-0.123520</td>\n",
       "      <td>-0.998245</td>\n",
       "      <td>-0.975300</td>\n",
       "      <td>-0.960322</td>\n",
       "      <td>-0.998807</td>\n",
       "      <td>-0.974914</td>\n",
       "      <td>-0.957686</td>\n",
       "      <td>-0.943068</td>\n",
       "      <td>...</td>\n",
       "      <td>0.158075</td>\n",
       "      <td>-0.595051</td>\n",
       "      <td>-0.861499</td>\n",
       "      <td>0.053477</td>\n",
       "      <td>-0.007435</td>\n",
       "      <td>-0.732626</td>\n",
       "      <td>0.703511</td>\n",
       "      <td>-0.844788</td>\n",
       "      <td>0.180289</td>\n",
       "      <td>-0.054317</td>\n",
       "    </tr>\n",
       "  </tbody>\n",
       "</table>\n",
       "<p>2 rows × 561 columns</p>\n",
       "</div>"
      ],
      "text/plain": [
       "   tBodyAcc-mean()-X  tBodyAcc-mean()-Y  tBodyAcc-mean()-Z  tBodyAcc-std()-X  \\\n",
       "0           0.288585          -0.020294          -0.132905         -0.995279   \n",
       "1           0.278419          -0.016411          -0.123520         -0.998245   \n",
       "\n",
       "   tBodyAcc-std()-Y  tBodyAcc-std()-Z  tBodyAcc-mad()-X  tBodyAcc-mad()-Y  \\\n",
       "0         -0.983111         -0.913526         -0.995112         -0.983185   \n",
       "1         -0.975300         -0.960322         -0.998807         -0.974914   \n",
       "\n",
       "   tBodyAcc-mad()-Z  tBodyAcc-max()-X  ...  fBodyBodyGyroJerkMag-meanFreq()  \\\n",
       "0         -0.923527         -0.934724  ...                        -0.074323   \n",
       "1         -0.957686         -0.943068  ...                         0.158075   \n",
       "\n",
       "   fBodyBodyGyroJerkMag-skewness()  fBodyBodyGyroJerkMag-kurtosis()  \\\n",
       "0                        -0.298676                        -0.710304   \n",
       "1                        -0.595051                        -0.861499   \n",
       "\n",
       "   angle(tBodyAccMean,gravity)  angle(tBodyAccJerkMean),gravityMean)  \\\n",
       "0                    -0.112754                              0.030400   \n",
       "1                     0.053477                             -0.007435   \n",
       "\n",
       "   angle(tBodyGyroMean,gravityMean)  angle(tBodyGyroJerkMean,gravityMean)  \\\n",
       "0                         -0.464761                             -0.018446   \n",
       "1                         -0.732626                              0.703511   \n",
       "\n",
       "   angle(X,gravityMean)  angle(Y,gravityMean)  angle(Z,gravityMean)  \n",
       "0             -0.841247              0.179941             -0.058627  \n",
       "1             -0.844788              0.180289             -0.054317  \n",
       "\n",
       "[2 rows x 561 columns]"
      ]
     },
     "execution_count": 9,
     "metadata": {},
     "output_type": "execute_result"
    }
   ],
   "source": [
    "X.head(2)"
   ]
  },
  {
   "cell_type": "code",
   "execution_count": 10,
   "metadata": {},
   "outputs": [
    {
     "data": {
      "text/plain": [
       "0    1\n",
       "1    1\n",
       "Name: Activity, dtype: int64"
      ]
     },
     "execution_count": 10,
     "metadata": {},
     "output_type": "execute_result"
    }
   ],
   "source": [
    "y.head(2)"
   ]
  },
  {
   "cell_type": "code",
   "execution_count": 11,
   "metadata": {},
   "outputs": [],
   "source": [
    "from sklearn.model_selection import train_test_split\n",
    "X_train, X_test, y_train, y_test = train_test_split(X, y, test_size=0.3)"
   ]
  },
  {
   "cell_type": "markdown",
   "metadata": {},
   "source": [
    "# Logistic Regression"
   ]
  },
  {
   "cell_type": "code",
   "execution_count": 12,
   "metadata": {},
   "outputs": [
    {
     "data": {
      "text/plain": [
       "LogisticRegression(C=1.0, class_weight=None, dual=False, fit_intercept=True,\n",
       "                   intercept_scaling=1, l1_ratio=None, max_iter=100,\n",
       "                   multi_class='warn', n_jobs=None, penalty='l2',\n",
       "                   random_state=None, solver='warn', tol=0.0001, verbose=0,\n",
       "                   warm_start=False)"
      ]
     },
     "execution_count": 12,
     "metadata": {},
     "output_type": "execute_result"
    }
   ],
   "source": [
    "from sklearn.linear_model import LogisticRegression\n",
    "lr = LogisticRegression()\n",
    "lr.fit(X_train, y_train)"
   ]
  },
  {
   "cell_type": "code",
   "execution_count": 13,
   "metadata": {},
   "outputs": [],
   "source": [
    "y_pred = lr.predict(X_test)"
   ]
  },
  {
   "cell_type": "code",
   "execution_count": 14,
   "metadata": {},
   "outputs": [
    {
     "name": "stdout",
     "output_type": "stream",
     "text": [
      "0.9828478964401295\n"
     ]
    }
   ],
   "source": [
    "from sklearn.metrics import accuracy_score\n",
    "print(accuracy_score(y_test, y_pred))"
   ]
  },
  {
   "cell_type": "code",
   "execution_count": 15,
   "metadata": {},
   "outputs": [
    {
     "name": "stdout",
     "output_type": "stream",
     "text": [
      "0.9828478964401295\n"
     ]
    }
   ],
   "source": [
    "lr_acc = accuracy_score(y_test, y_pred)\n",
    "print(lr_acc)"
   ]
  },
  {
   "cell_type": "code",
   "execution_count": 16,
   "metadata": {},
   "outputs": [
    {
     "data": {
      "text/html": [
       "<div>\n",
       "<style scoped>\n",
       "    .dataframe tbody tr th:only-of-type {\n",
       "        vertical-align: middle;\n",
       "    }\n",
       "\n",
       "    .dataframe tbody tr th {\n",
       "        vertical-align: top;\n",
       "    }\n",
       "\n",
       "    .dataframe thead th {\n",
       "        text-align: right;\n",
       "    }\n",
       "</style>\n",
       "<table border=\"1\" class=\"dataframe\">\n",
       "  <thead>\n",
       "    <tr style=\"text-align: right;\">\n",
       "      <th></th>\n",
       "    </tr>\n",
       "  </thead>\n",
       "  <tbody>\n",
       "  </tbody>\n",
       "</table>\n",
       "</div>"
      ],
      "text/plain": [
       "Empty DataFrame\n",
       "Columns: []\n",
       "Index: []"
      ]
     },
     "execution_count": 16,
     "metadata": {},
     "output_type": "execute_result"
    }
   ],
   "source": [
    "results = pd.DataFrame()\n",
    "results"
   ]
  },
  {
   "cell_type": "code",
   "execution_count": 17,
   "metadata": {},
   "outputs": [
    {
     "data": {
      "text/html": [
       "<div>\n",
       "<style scoped>\n",
       "    .dataframe tbody tr th:only-of-type {\n",
       "        vertical-align: middle;\n",
       "    }\n",
       "\n",
       "    .dataframe tbody tr th {\n",
       "        vertical-align: top;\n",
       "    }\n",
       "\n",
       "    .dataframe thead th {\n",
       "        text-align: right;\n",
       "    }\n",
       "</style>\n",
       "<table border=\"1\" class=\"dataframe\">\n",
       "  <thead>\n",
       "    <tr style=\"text-align: right;\">\n",
       "      <th></th>\n",
       "      <th>Algorithm</th>\n",
       "      <th>Accuracy</th>\n",
       "    </tr>\n",
       "  </thead>\n",
       "  <tbody>\n",
       "    <tr>\n",
       "      <th>0</th>\n",
       "      <td>Logistic Regression Method</td>\n",
       "      <td>0.982848</td>\n",
       "    </tr>\n",
       "  </tbody>\n",
       "</table>\n",
       "</div>"
      ],
      "text/plain": [
       "                    Algorithm  Accuracy\n",
       "0  Logistic Regression Method  0.982848"
      ]
     },
     "execution_count": 17,
     "metadata": {},
     "output_type": "execute_result"
    }
   ],
   "source": [
    "tempResults = pd.DataFrame({'Algorithm':['Logistic Regression Method'], 'Accuracy':[lr_acc]})\n",
    "results = pd.concat( [results, tempResults] )\n",
    "results = results[['Algorithm','Accuracy']]\n",
    "results"
   ]
  },
  {
   "cell_type": "markdown",
   "metadata": {},
   "source": [
    "# Decision Tree Classifier"
   ]
  },
  {
   "cell_type": "code",
   "execution_count": 18,
   "metadata": {},
   "outputs": [
    {
     "data": {
      "text/plain": [
       "DecisionTreeClassifier(class_weight=None, criterion='gini', max_depth=None,\n",
       "                       max_features=None, max_leaf_nodes=None,\n",
       "                       min_impurity_decrease=0.0, min_impurity_split=None,\n",
       "                       min_samples_leaf=1, min_samples_split=2,\n",
       "                       min_weight_fraction_leaf=0.0, presort=False,\n",
       "                       random_state=None, splitter='best')"
      ]
     },
     "execution_count": 18,
     "metadata": {},
     "output_type": "execute_result"
    }
   ],
   "source": [
    "from sklearn.tree import DecisionTreeClassifier\n",
    "dtc = DecisionTreeClassifier()\n",
    "dtc.fit(X_train, y_train)"
   ]
  },
  {
   "cell_type": "code",
   "execution_count": 19,
   "metadata": {},
   "outputs": [],
   "source": [
    "y_pred = dtc.predict(X_test)\n"
   ]
  },
  {
   "cell_type": "code",
   "execution_count": 20,
   "metadata": {},
   "outputs": [
    {
     "name": "stdout",
     "output_type": "stream",
     "text": [
      "0.9307443365695793\n"
     ]
    }
   ],
   "source": [
    "from sklearn.metrics import accuracy_score\n",
    "print(accuracy_score(y_test, y_pred))"
   ]
  },
  {
   "cell_type": "code",
   "execution_count": 21,
   "metadata": {},
   "outputs": [
    {
     "name": "stdout",
     "output_type": "stream",
     "text": [
      "0.9307443365695793\n"
     ]
    }
   ],
   "source": [
    "dtc_acc = accuracy_score(y_test, y_pred)\n",
    "print(dtc_acc)"
   ]
  },
  {
   "cell_type": "code",
   "execution_count": 22,
   "metadata": {},
   "outputs": [
    {
     "data": {
      "text/html": [
       "<div>\n",
       "<style scoped>\n",
       "    .dataframe tbody tr th:only-of-type {\n",
       "        vertical-align: middle;\n",
       "    }\n",
       "\n",
       "    .dataframe tbody tr th {\n",
       "        vertical-align: top;\n",
       "    }\n",
       "\n",
       "    .dataframe thead th {\n",
       "        text-align: right;\n",
       "    }\n",
       "</style>\n",
       "<table border=\"1\" class=\"dataframe\">\n",
       "  <thead>\n",
       "    <tr style=\"text-align: right;\">\n",
       "      <th></th>\n",
       "      <th>Algorithm</th>\n",
       "      <th>Accuracy</th>\n",
       "    </tr>\n",
       "  </thead>\n",
       "  <tbody>\n",
       "    <tr>\n",
       "      <th>0</th>\n",
       "      <td>Logistic Regression Method</td>\n",
       "      <td>0.982848</td>\n",
       "    </tr>\n",
       "    <tr>\n",
       "      <th>0</th>\n",
       "      <td>Decision tree Classifier Method</td>\n",
       "      <td>0.930744</td>\n",
       "    </tr>\n",
       "  </tbody>\n",
       "</table>\n",
       "</div>"
      ],
      "text/plain": [
       "                         Algorithm  Accuracy\n",
       "0       Logistic Regression Method  0.982848\n",
       "0  Decision tree Classifier Method  0.930744"
      ]
     },
     "execution_count": 22,
     "metadata": {},
     "output_type": "execute_result"
    }
   ],
   "source": [
    "tempResults = pd.DataFrame({'Algorithm':['Decision tree Classifier Method'], 'Accuracy':[dtc_acc]})\n",
    "results = pd.concat( [results, tempResults] )\n",
    "results = results[['Algorithm','Accuracy']]\n",
    "results"
   ]
  },
  {
   "cell_type": "markdown",
   "metadata": {},
   "source": [
    "# Random Forest Classifier"
   ]
  },
  {
   "cell_type": "code",
   "execution_count": 23,
   "metadata": {},
   "outputs": [
    {
     "data": {
      "text/plain": [
       "RandomForestClassifier(bootstrap=True, class_weight=None, criterion='gini',\n",
       "                       max_depth=None, max_features='auto', max_leaf_nodes=None,\n",
       "                       min_impurity_decrease=0.0, min_impurity_split=None,\n",
       "                       min_samples_leaf=1, min_samples_split=2,\n",
       "                       min_weight_fraction_leaf=0.0, n_estimators=10,\n",
       "                       n_jobs=None, oob_score=False, random_state=None,\n",
       "                       verbose=0, warm_start=False)"
      ]
     },
     "execution_count": 23,
     "metadata": {},
     "output_type": "execute_result"
    }
   ],
   "source": [
    "from sklearn.ensemble import RandomForestClassifier\n",
    "rfc = RandomForestClassifier()\n",
    "rfc.fit(X_train, y_train)"
   ]
  },
  {
   "cell_type": "code",
   "execution_count": 25,
   "metadata": {},
   "outputs": [],
   "source": [
    "y_pred = rfc.predict(X_test)\n"
   ]
  },
  {
   "cell_type": "code",
   "execution_count": 26,
   "metadata": {},
   "outputs": [
    {
     "name": "stdout",
     "output_type": "stream",
     "text": [
      "0.9647249190938512\n"
     ]
    }
   ],
   "source": [
    "from sklearn.metrics import accuracy_score\n",
    "print(accuracy_score(y_test, y_pred))"
   ]
  },
  {
   "cell_type": "code",
   "execution_count": 27,
   "metadata": {},
   "outputs": [
    {
     "name": "stdout",
     "output_type": "stream",
     "text": [
      "0.9647249190938512\n"
     ]
    }
   ],
   "source": [
    "rfc_acc = accuracy_score(y_test, y_pred)\n",
    "print(rfc_acc)"
   ]
  },
  {
   "cell_type": "code",
   "execution_count": 28,
   "metadata": {},
   "outputs": [
    {
     "data": {
      "text/html": [
       "<div>\n",
       "<style scoped>\n",
       "    .dataframe tbody tr th:only-of-type {\n",
       "        vertical-align: middle;\n",
       "    }\n",
       "\n",
       "    .dataframe tbody tr th {\n",
       "        vertical-align: top;\n",
       "    }\n",
       "\n",
       "    .dataframe thead th {\n",
       "        text-align: right;\n",
       "    }\n",
       "</style>\n",
       "<table border=\"1\" class=\"dataframe\">\n",
       "  <thead>\n",
       "    <tr style=\"text-align: right;\">\n",
       "      <th></th>\n",
       "      <th>Algorithm</th>\n",
       "      <th>Accuracy</th>\n",
       "    </tr>\n",
       "  </thead>\n",
       "  <tbody>\n",
       "    <tr>\n",
       "      <th>0</th>\n",
       "      <td>Logistic Regression Method</td>\n",
       "      <td>0.982848</td>\n",
       "    </tr>\n",
       "    <tr>\n",
       "      <th>0</th>\n",
       "      <td>Decision tree Classifier Method</td>\n",
       "      <td>0.930744</td>\n",
       "    </tr>\n",
       "    <tr>\n",
       "      <th>0</th>\n",
       "      <td>Random Forest Classifier Method</td>\n",
       "      <td>0.964725</td>\n",
       "    </tr>\n",
       "  </tbody>\n",
       "</table>\n",
       "</div>"
      ],
      "text/plain": [
       "                         Algorithm  Accuracy\n",
       "0       Logistic Regression Method  0.982848\n",
       "0  Decision tree Classifier Method  0.930744\n",
       "0  Random Forest Classifier Method  0.964725"
      ]
     },
     "execution_count": 28,
     "metadata": {},
     "output_type": "execute_result"
    }
   ],
   "source": [
    "tempResults = pd.DataFrame({'Algorithm':['Random Forest Classifier Method'], 'Accuracy':[rfc_acc]})\n",
    "results = pd.concat( [results, tempResults] )\n",
    "results = results[['Algorithm','Accuracy']]\n",
    "results"
   ]
  },
  {
   "cell_type": "markdown",
   "metadata": {},
   "source": [
    "# Support Vector Classifie"
   ]
  },
  {
   "cell_type": "code",
   "execution_count": 29,
   "metadata": {},
   "outputs": [
    {
     "data": {
      "text/plain": [
       "SVC(C=1.0, cache_size=200, class_weight=None, coef0=0.0,\n",
       "    decision_function_shape='ovr', degree=3, gamma='auto_deprecated',\n",
       "    kernel='rbf', max_iter=-1, probability=False, random_state=None,\n",
       "    shrinking=True, tol=0.001, verbose=False)"
      ]
     },
     "execution_count": 29,
     "metadata": {},
     "output_type": "execute_result"
    }
   ],
   "source": [
    "from sklearn import svm\n",
    "svc = svm.SVC()\n",
    "svc.fit(X_train,y_train)"
   ]
  },
  {
   "cell_type": "code",
   "execution_count": 30,
   "metadata": {},
   "outputs": [],
   "source": [
    "y_pred = svc.predict(X_test)"
   ]
  },
  {
   "cell_type": "code",
   "execution_count": 31,
   "metadata": {},
   "outputs": [
    {
     "name": "stdout",
     "output_type": "stream",
     "text": [
      "0.9559870550161812\n"
     ]
    }
   ],
   "source": [
    "from sklearn.metrics import accuracy_score\n",
    "print(accuracy_score(y_test, y_pred))"
   ]
  },
  {
   "cell_type": "code",
   "execution_count": 32,
   "metadata": {},
   "outputs": [
    {
     "name": "stdout",
     "output_type": "stream",
     "text": [
      "0.9559870550161812\n"
     ]
    }
   ],
   "source": [
    "svc_acc = accuracy_score(y_test, y_pred)\n",
    "print(svc_acc)"
   ]
  },
  {
   "cell_type": "code",
   "execution_count": 33,
   "metadata": {},
   "outputs": [
    {
     "data": {
      "text/html": [
       "<div>\n",
       "<style scoped>\n",
       "    .dataframe tbody tr th:only-of-type {\n",
       "        vertical-align: middle;\n",
       "    }\n",
       "\n",
       "    .dataframe tbody tr th {\n",
       "        vertical-align: top;\n",
       "    }\n",
       "\n",
       "    .dataframe thead th {\n",
       "        text-align: right;\n",
       "    }\n",
       "</style>\n",
       "<table border=\"1\" class=\"dataframe\">\n",
       "  <thead>\n",
       "    <tr style=\"text-align: right;\">\n",
       "      <th></th>\n",
       "      <th>Algorithm</th>\n",
       "      <th>Accuracy</th>\n",
       "    </tr>\n",
       "  </thead>\n",
       "  <tbody>\n",
       "    <tr>\n",
       "      <th>0</th>\n",
       "      <td>Logistic Regression Method</td>\n",
       "      <td>0.982848</td>\n",
       "    </tr>\n",
       "    <tr>\n",
       "      <th>0</th>\n",
       "      <td>Decision tree Classifier Method</td>\n",
       "      <td>0.930744</td>\n",
       "    </tr>\n",
       "    <tr>\n",
       "      <th>0</th>\n",
       "      <td>Random Forest Classifier Method</td>\n",
       "      <td>0.964725</td>\n",
       "    </tr>\n",
       "    <tr>\n",
       "      <th>0</th>\n",
       "      <td>Support Vector Classifier Method</td>\n",
       "      <td>0.955987</td>\n",
       "    </tr>\n",
       "  </tbody>\n",
       "</table>\n",
       "</div>"
      ],
      "text/plain": [
       "                          Algorithm  Accuracy\n",
       "0        Logistic Regression Method  0.982848\n",
       "0   Decision tree Classifier Method  0.930744\n",
       "0   Random Forest Classifier Method  0.964725\n",
       "0  Support Vector Classifier Method  0.955987"
      ]
     },
     "execution_count": 33,
     "metadata": {},
     "output_type": "execute_result"
    }
   ],
   "source": [
    "tempResults = pd.DataFrame({'Algorithm':['Support Vector Classifier Method'], 'Accuracy':[svc_acc]})\n",
    "results = pd.concat( [results, tempResults] )\n",
    "results = results[['Algorithm','Accuracy']]\n",
    "results"
   ]
  },
  {
   "cell_type": "code",
   "execution_count": null,
   "metadata": {},
   "outputs": [],
   "source": []
  }
 ],
 "metadata": {
  "kernelspec": {
   "display_name": "Python 3",
   "language": "python",
   "name": "python3"
  },
  "language_info": {
   "codemirror_mode": {
    "name": "ipython",
    "version": 3
   },
   "file_extension": ".py",
   "mimetype": "text/x-python",
   "name": "python",
   "nbconvert_exporter": "python",
   "pygments_lexer": "ipython3",
   "version": "3.7.3"
  }
 },
 "nbformat": 4,
 "nbformat_minor": 2
}
